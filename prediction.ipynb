{
 "cells": [
  {
   "cell_type": "code",
   "execution_count": 1,
   "id": "cb924d2b",
   "metadata": {},
   "outputs": [],
   "source": [
    "# Step 1: Import Libraries and Load the Model\n",
    "import numpy as np\n",
    "import tensorflow as tf\n",
    "from tensorflow.keras.datasets import imdb\n",
    "from tensorflow.keras.preprocessing import sequence\n",
    "from tensorflow.keras.models import load_model"
   ]
  },
  {
   "cell_type": "code",
   "execution_count": 2,
   "id": "a8ad8a35",
   "metadata": {},
   "outputs": [],
   "source": [
    "# Load the IMDB dataset word index\n",
    "word_index = imdb.get_word_index()\n",
    "reverse_word_index = {value: key for key, value in word_index.items()}"
   ]
  },
  {
   "cell_type": "code",
   "execution_count": 3,
   "id": "c5b9dcd4",
   "metadata": {},
   "outputs": [
    {
     "name": "stderr",
     "output_type": "stream",
     "text": [
      "WARNING:absl:Compiled the loaded model, but the compiled metrics have yet to be built. `model.compile_metrics` will be empty until you train or evaluate the model.\n"
     ]
    },
    {
     "data": {
      "text/html": [
       "<pre style=\"white-space:pre;overflow-x:auto;line-height:normal;font-family:Menlo,'DejaVu Sans Mono',consolas,'Courier New',monospace\"><span style=\"font-weight: bold\">Model: \"sequential_6\"</span>\n",
       "</pre>\n"
      ],
      "text/plain": [
       "\u001b[1mModel: \"sequential_6\"\u001b[0m\n"
      ]
     },
     "metadata": {},
     "output_type": "display_data"
    },
    {
     "data": {
      "text/html": [
       "<pre style=\"white-space:pre;overflow-x:auto;line-height:normal;font-family:Menlo,'DejaVu Sans Mono',consolas,'Courier New',monospace\">┏━━━━━━━━━━━━━━━━━━━━━━━━━━━━━━━━━┳━━━━━━━━━━━━━━━━━━━━━━━━┳━━━━━━━━━━━━━━━┓\n",
       "┃<span style=\"font-weight: bold\"> Layer (type)                    </span>┃<span style=\"font-weight: bold\"> Output Shape           </span>┃<span style=\"font-weight: bold\">       Param # </span>┃\n",
       "┡━━━━━━━━━━━━━━━━━━━━━━━━━━━━━━━━━╇━━━━━━━━━━━━━━━━━━━━━━━━╇━━━━━━━━━━━━━━━┩\n",
       "│ embedding_5 (<span style=\"color: #0087ff; text-decoration-color: #0087ff\">Embedding</span>)         │ (<span style=\"color: #00d7ff; text-decoration-color: #00d7ff\">None</span>, <span style=\"color: #00af00; text-decoration-color: #00af00\">500</span>, <span style=\"color: #00af00; text-decoration-color: #00af00\">128</span>)       │     <span style=\"color: #00af00; text-decoration-color: #00af00\">1,280,000</span> │\n",
       "├─────────────────────────────────┼────────────────────────┼───────────────┤\n",
       "│ simple_rnn_4 (<span style=\"color: #0087ff; text-decoration-color: #0087ff\">SimpleRNN</span>)        │ (<span style=\"color: #00d7ff; text-decoration-color: #00d7ff\">None</span>, <span style=\"color: #00af00; text-decoration-color: #00af00\">128</span>)            │        <span style=\"color: #00af00; text-decoration-color: #00af00\">32,896</span> │\n",
       "├─────────────────────────────────┼────────────────────────┼───────────────┤\n",
       "│ dense_4 (<span style=\"color: #0087ff; text-decoration-color: #0087ff\">Dense</span>)                 │ (<span style=\"color: #00d7ff; text-decoration-color: #00d7ff\">None</span>, <span style=\"color: #00af00; text-decoration-color: #00af00\">1</span>)              │           <span style=\"color: #00af00; text-decoration-color: #00af00\">129</span> │\n",
       "└─────────────────────────────────┴────────────────────────┴───────────────┘\n",
       "</pre>\n"
      ],
      "text/plain": [
       "┏━━━━━━━━━━━━━━━━━━━━━━━━━━━━━━━━━┳━━━━━━━━━━━━━━━━━━━━━━━━┳━━━━━━━━━━━━━━━┓\n",
       "┃\u001b[1m \u001b[0m\u001b[1mLayer (type)                   \u001b[0m\u001b[1m \u001b[0m┃\u001b[1m \u001b[0m\u001b[1mOutput Shape          \u001b[0m\u001b[1m \u001b[0m┃\u001b[1m \u001b[0m\u001b[1m      Param #\u001b[0m\u001b[1m \u001b[0m┃\n",
       "┡━━━━━━━━━━━━━━━━━━━━━━━━━━━━━━━━━╇━━━━━━━━━━━━━━━━━━━━━━━━╇━━━━━━━━━━━━━━━┩\n",
       "│ embedding_5 (\u001b[38;5;33mEmbedding\u001b[0m)         │ (\u001b[38;5;45mNone\u001b[0m, \u001b[38;5;34m500\u001b[0m, \u001b[38;5;34m128\u001b[0m)       │     \u001b[38;5;34m1,280,000\u001b[0m │\n",
       "├─────────────────────────────────┼────────────────────────┼───────────────┤\n",
       "│ simple_rnn_4 (\u001b[38;5;33mSimpleRNN\u001b[0m)        │ (\u001b[38;5;45mNone\u001b[0m, \u001b[38;5;34m128\u001b[0m)            │        \u001b[38;5;34m32,896\u001b[0m │\n",
       "├─────────────────────────────────┼────────────────────────┼───────────────┤\n",
       "│ dense_4 (\u001b[38;5;33mDense\u001b[0m)                 │ (\u001b[38;5;45mNone\u001b[0m, \u001b[38;5;34m1\u001b[0m)              │           \u001b[38;5;34m129\u001b[0m │\n",
       "└─────────────────────────────────┴────────────────────────┴───────────────┘\n"
      ]
     },
     "metadata": {},
     "output_type": "display_data"
    },
    {
     "data": {
      "text/html": [
       "<pre style=\"white-space:pre;overflow-x:auto;line-height:normal;font-family:Menlo,'DejaVu Sans Mono',consolas,'Courier New',monospace\"><span style=\"font-weight: bold\"> Total params: </span><span style=\"color: #00af00; text-decoration-color: #00af00\">1,313,027</span> (5.01 MB)\n",
       "</pre>\n"
      ],
      "text/plain": [
       "\u001b[1m Total params: \u001b[0m\u001b[38;5;34m1,313,027\u001b[0m (5.01 MB)\n"
      ]
     },
     "metadata": {},
     "output_type": "display_data"
    },
    {
     "data": {
      "text/html": [
       "<pre style=\"white-space:pre;overflow-x:auto;line-height:normal;font-family:Menlo,'DejaVu Sans Mono',consolas,'Courier New',monospace\"><span style=\"font-weight: bold\"> Trainable params: </span><span style=\"color: #00af00; text-decoration-color: #00af00\">1,313,025</span> (5.01 MB)\n",
       "</pre>\n"
      ],
      "text/plain": [
       "\u001b[1m Trainable params: \u001b[0m\u001b[38;5;34m1,313,025\u001b[0m (5.01 MB)\n"
      ]
     },
     "metadata": {},
     "output_type": "display_data"
    },
    {
     "data": {
      "text/html": [
       "<pre style=\"white-space:pre;overflow-x:auto;line-height:normal;font-family:Menlo,'DejaVu Sans Mono',consolas,'Courier New',monospace\"><span style=\"font-weight: bold\"> Non-trainable params: </span><span style=\"color: #00af00; text-decoration-color: #00af00\">0</span> (0.00 B)\n",
       "</pre>\n"
      ],
      "text/plain": [
       "\u001b[1m Non-trainable params: \u001b[0m\u001b[38;5;34m0\u001b[0m (0.00 B)\n"
      ]
     },
     "metadata": {},
     "output_type": "display_data"
    },
    {
     "data": {
      "text/html": [
       "<pre style=\"white-space:pre;overflow-x:auto;line-height:normal;font-family:Menlo,'DejaVu Sans Mono',consolas,'Courier New',monospace\"><span style=\"font-weight: bold\"> Optimizer params: </span><span style=\"color: #00af00; text-decoration-color: #00af00\">2</span> (12.00 B)\n",
       "</pre>\n"
      ],
      "text/plain": [
       "\u001b[1m Optimizer params: \u001b[0m\u001b[38;5;34m2\u001b[0m (12.00 B)\n"
      ]
     },
     "metadata": {},
     "output_type": "display_data"
    }
   ],
   "source": [
    "# Load the pre-trained model with ReLU activation\n",
    "model = load_model('simple_rnn_imdb.h5')\n",
    "model.summary()"
   ]
  },
  {
   "cell_type": "code",
   "execution_count": 4,
   "id": "ac222c76",
   "metadata": {},
   "outputs": [
    {
     "data": {
      "text/plain": [
       "[array([[-9.5755346e-03, -2.7577814e-01, -8.7481385e-01, ...,\n",
       "         -1.2863643e-01,  7.5081789e-01, -4.2667058e-01],\n",
       "        [ 4.0872205e-02,  6.2860712e-02, -4.0470030e-02, ...,\n",
       "          9.7713903e-02,  3.8239248e-02, -3.9648682e-02],\n",
       "        [ 6.2324978e-02,  2.0577909e-02, -4.4778664e-02, ...,\n",
       "          1.1294299e-01,  1.6125722e-02,  8.4322144e-04],\n",
       "        ...,\n",
       "        [ 4.1664783e-02,  5.7447746e-02, -6.0263732e-03, ...,\n",
       "         -1.7015591e-03, -2.5643259e-02,  2.1489492e-02],\n",
       "        [ 8.9767821e-02,  8.2154483e-02, -1.0192639e-01, ...,\n",
       "          1.0923171e-01, -2.8071303e-02,  5.0563175e-02],\n",
       "        [ 5.2924901e-02,  7.4924007e-03,  8.2501404e-02, ...,\n",
       "          1.7762717e-02,  8.9440625e-03,  1.1231737e-01]], dtype=float32),\n",
       " array([[-0.13184035, -0.06124546, -0.15131667, ..., -0.04474214,\n",
       "         -0.04739541,  0.04288223],\n",
       "        [-0.04312704, -0.07317895, -0.06780271, ..., -0.08119923,\n",
       "          0.04527586,  0.13929878],\n",
       "        [-0.07739128, -0.07902165,  0.03229989, ...,  0.02866474,\n",
       "         -0.05875409, -0.15977484],\n",
       "        ...,\n",
       "        [-0.05630941,  0.00436521, -0.13451456, ...,  0.08980364,\n",
       "         -0.09922754, -0.01075171],\n",
       "        [-0.08279492,  0.03954693, -0.01622105, ..., -0.01186067,\n",
       "          0.14141689, -0.12496204],\n",
       "        [-0.07057869,  0.00543021,  0.11268282, ...,  0.01337276,\n",
       "          0.12134003,  0.01610129]], dtype=float32),\n",
       " array([[ 0.03718925, -0.0082589 , -0.02078221, ...,  0.02822418,\n",
       "          0.068436  , -0.1206152 ],\n",
       "        [-0.15022534,  0.08672616, -0.10250012, ...,  0.03930085,\n",
       "         -0.01915014, -0.04429185],\n",
       "        [-0.19272503,  0.03401468, -0.05202453, ..., -0.0619612 ,\n",
       "          0.02354329, -0.02596712],\n",
       "        ...,\n",
       "        [-0.06034337, -0.10324745, -0.15516411, ..., -0.09699991,\n",
       "         -0.06949678, -0.01822963],\n",
       "        [ 0.050867  ,  0.02923555, -0.00939258, ..., -0.14460981,\n",
       "         -0.11270989,  0.01830312],\n",
       "        [-0.06940518, -0.08360448, -0.1938836 , ...,  0.22529341,\n",
       "          0.1154408 ,  0.06413727]], dtype=float32),\n",
       " array([-0.02953905, -0.01323883, -0.0246453 , -0.01528422, -0.01981277,\n",
       "        -0.00458093, -0.01709127, -0.0100787 ,  0.00534479, -0.03294338,\n",
       "        -0.02840515, -0.00022895, -0.02966624,  0.00186434, -0.02528111,\n",
       "        -0.02354582, -0.01686374, -0.00838091,  0.01025624, -0.03119259,\n",
       "        -0.02180979,  0.01633583, -0.00620571, -0.00221956, -0.03058208,\n",
       "         0.00605459, -0.00809433, -0.01290139, -0.01433641, -0.00609349,\n",
       "         0.00599248, -0.02916365,  0.01500274, -0.04839427, -0.01788836,\n",
       "        -0.01591989, -0.00261127, -0.01048705, -0.02748677, -0.05417281,\n",
       "        -0.02017567, -0.01426747, -0.02177741,  0.01977709, -0.01461481,\n",
       "        -0.0172528 ,  0.00614576, -0.00097598, -0.0246826 , -0.01307968,\n",
       "        -0.03161994,  0.00851981, -0.034554  , -0.03428681, -0.01097565,\n",
       "        -0.02602345, -0.013014  , -0.00293891, -0.04169099, -0.02817021,\n",
       "        -0.02652001, -0.00756712, -0.05246821, -0.01186281, -0.01842937,\n",
       "         0.00047021, -0.0221624 , -0.00661983,  0.01896772, -0.02041449,\n",
       "         0.03495202, -0.01227907, -0.01934847, -0.01985437, -0.00792177,\n",
       "        -0.02187028,  0.01085725, -0.00324788, -0.00070022, -0.00686985,\n",
       "        -0.01571414, -0.0184284 ,  0.00720247, -0.01811177, -0.03455529,\n",
       "        -0.01981914,  0.01324565, -0.00460754, -0.03594701, -0.00179299,\n",
       "         0.00399453, -0.01042159, -0.02484434, -0.02929987, -0.03931699,\n",
       "        -0.01896477, -0.03884089, -0.03420122, -0.02118738, -0.00985157,\n",
       "        -0.02543352, -0.02434848, -0.00220023, -0.01709167, -0.02776762,\n",
       "         0.00504625, -0.02930193, -0.01010003, -0.00087658, -0.03735327,\n",
       "        -0.02779129, -0.02450466, -0.00786317,  0.00905202, -0.02670402,\n",
       "         0.00187738,  0.00657166,  0.02459194, -0.03102919, -0.00775685,\n",
       "        -0.03424133,  0.01052326, -0.02882998, -0.02934109, -0.01032289,\n",
       "        -0.02361205, -0.00896313,  0.00638645], dtype=float32),\n",
       " array([[ 0.02537195],\n",
       "        [ 0.17771296],\n",
       "        [-0.0941073 ],\n",
       "        [-0.16106729],\n",
       "        [-0.05614528],\n",
       "        [ 0.14772496],\n",
       "        [ 0.12166815],\n",
       "        [ 0.19987354],\n",
       "        [ 0.05735769],\n",
       "        [-0.00837616],\n",
       "        [ 0.00204198],\n",
       "        [ 0.2139897 ],\n",
       "        [-0.01393692],\n",
       "        [-0.15598695],\n",
       "        [ 0.12477151],\n",
       "        [-0.39484674],\n",
       "        [ 0.02751987],\n",
       "        [-0.12568207],\n",
       "        [-0.18382975],\n",
       "        [ 0.17180014],\n",
       "        [ 0.11624813],\n",
       "        [ 0.20736586],\n",
       "        [-0.18576871],\n",
       "        [ 0.20532347],\n",
       "        [ 0.14396206],\n",
       "        [-0.19896019],\n",
       "        [ 0.02229245],\n",
       "        [ 0.209958  ],\n",
       "        [-0.0458883 ],\n",
       "        [ 0.21686222],\n",
       "        [ 0.04325215],\n",
       "        [-0.02238824],\n",
       "        [-0.08919498],\n",
       "        [ 0.07856961],\n",
       "        [-0.9116681 ],\n",
       "        [ 0.1568993 ],\n",
       "        [-0.09570362],\n",
       "        [-0.01465242],\n",
       "        [-0.06684979],\n",
       "        [-0.1896403 ],\n",
       "        [-0.1049107 ],\n",
       "        [ 0.52942854],\n",
       "        [-0.14579642],\n",
       "        [ 0.1157078 ],\n",
       "        [-0.36187613],\n",
       "        [-0.1969516 ],\n",
       "        [ 0.02985682],\n",
       "        [ 0.15934105],\n",
       "        [-0.01755586],\n",
       "        [ 0.09129337],\n",
       "        [ 0.15987438],\n",
       "        [-0.08138884],\n",
       "        [-0.17841636],\n",
       "        [ 0.04291185],\n",
       "        [ 0.20522279],\n",
       "        [ 0.10357765],\n",
       "        [ 0.14378707],\n",
       "        [-0.03682441],\n",
       "        [-0.02362714],\n",
       "        [ 0.13368826],\n",
       "        [ 0.20183022],\n",
       "        [ 0.21878226],\n",
       "        [ 0.03207215],\n",
       "        [-0.15595253],\n",
       "        [-0.23265846],\n",
       "        [-0.24390458],\n",
       "        [-0.56733257],\n",
       "        [-0.14517589],\n",
       "        [ 0.23609962],\n",
       "        [ 0.2748797 ],\n",
       "        [-0.10587316],\n",
       "        [-0.17943309],\n",
       "        [ 0.09070146],\n",
       "        [ 1.0759217 ],\n",
       "        [-0.14473897],\n",
       "        [ 0.0303771 ],\n",
       "        [-0.19717067],\n",
       "        [-0.18742986],\n",
       "        [ 0.18903807],\n",
       "        [-0.23905078],\n",
       "        [-0.26361737],\n",
       "        [-0.10870485],\n",
       "        [ 0.23932397],\n",
       "        [-0.10403866],\n",
       "        [ 0.07754326],\n",
       "        [ 0.05940421],\n",
       "        [ 0.10460176],\n",
       "        [-0.02980452],\n",
       "        [-0.10396922],\n",
       "        [ 0.18025815],\n",
       "        [-0.3781624 ],\n",
       "        [ 0.2367487 ],\n",
       "        [ 0.13134429],\n",
       "        [-0.04566589],\n",
       "        [-0.10784376],\n",
       "        [-0.6445144 ],\n",
       "        [ 0.6135609 ],\n",
       "        [-0.0117944 ],\n",
       "        [ 0.14323275],\n",
       "        [-0.22363824],\n",
       "        [-0.24875149],\n",
       "        [-0.10965681],\n",
       "        [-0.11950553],\n",
       "        [ 0.13337198],\n",
       "        [-0.01019998],\n",
       "        [-0.19161437],\n",
       "        [-0.10284088],\n",
       "        [ 0.35635847],\n",
       "        [ 0.2058331 ],\n",
       "        [-0.73006576],\n",
       "        [-0.10960214],\n",
       "        [-0.0985544 ],\n",
       "        [-0.06582817],\n",
       "        [-1.421159  ],\n",
       "        [ 0.49365386],\n",
       "        [ 0.17767444],\n",
       "        [ 0.11647876],\n",
       "        [ 0.13770033],\n",
       "        [ 0.22613104],\n",
       "        [ 0.2106495 ],\n",
       "        [ 0.20226225],\n",
       "        [-0.16005751],\n",
       "        [ 0.10916194],\n",
       "        [-0.28264922],\n",
       "        [-0.02977442],\n",
       "        [-0.16509463],\n",
       "        [-0.21929133],\n",
       "        [-1.1241328 ]], dtype=float32),\n",
       " array([0.09626696], dtype=float32)]"
      ]
     },
     "execution_count": 4,
     "metadata": {},
     "output_type": "execute_result"
    }
   ],
   "source": [
    "model.get_weights()"
   ]
  },
  {
   "cell_type": "code",
   "execution_count": 5,
   "id": "9d8af20a",
   "metadata": {},
   "outputs": [],
   "source": [
    "# Step 2: Helper Functions\n",
    "# Function to decode reviews\n",
    "def decode_review(encoded_review):\n",
    "    return ' '.join([reverse_word_index.get(i - 3, '?') for i in encoded_review])"
   ]
  },
  {
   "cell_type": "code",
   "execution_count": 7,
   "id": "ea571501",
   "metadata": {},
   "outputs": [],
   "source": [
    "# Function to preprocess user input\n",
    "def preprocess_text(text):\n",
    "    words = text.lower().split()\n",
    "    encoded_review = [word_index.get(word, 2) + 3 for word in words]\n",
    "    padded_review = sequence.pad_sequences([encoded_review], maxlen=500)\n",
    "    return padded_review"
   ]
  },
  {
   "cell_type": "code",
   "execution_count": 8,
   "id": "75870302",
   "metadata": {},
   "outputs": [],
   "source": [
    "# Step 3\n",
    "### Prediction function\n",
    "def predict_sentiment(review):\n",
    "    preprocessed_input=preprocess_text(review)\n",
    "    prediction=model.predict(preprocessed_input)\n",
    "    sentiment = 'Positive' if prediction[0][0] > 0.5 else 'Negative'\n",
    " \n",
    "    return sentiment, prediction[0][0]"
   ]
  },
  {
   "cell_type": "code",
   "execution_count": 9,
   "id": "3e508d3e",
   "metadata": {},
   "outputs": [
    {
     "name": "stdout",
     "output_type": "stream",
     "text": [
      "\u001b[1m1/1\u001b[0m \u001b[32m━━━━━━━━━━━━━━━━━━━━\u001b[0m\u001b[37m\u001b[0m \u001b[1m0s\u001b[0m 207ms/step\n"
     ]
    }
   ],
   "source": [
    "# Step 4: User Input and Prediction\n",
    "# Example review for prediction\n",
    "example_review = \"This movie was fantastic! The acting was great and the plot was thrilling.\"\n",
    "sentiment,score=predict_sentiment(example_review)"
   ]
  },
  {
   "cell_type": "code",
   "execution_count": 10,
   "id": "50a03e78",
   "metadata": {},
   "outputs": [
    {
     "name": "stdout",
     "output_type": "stream",
     "text": [
      "Review: This movie was fantastic! The acting was great and the plot was thrilling.\n",
      "Sentiment: Negative\n",
      "Prediction Score: 0.291385680437088\n"
     ]
    }
   ],
   "source": [
    "print(f'Review: {example_review}')\n",
    "print(f'Sentiment: {sentiment}')\n",
    "print(f'Prediction Score: {score}')"
   ]
  },
  {
   "cell_type": "code",
   "execution_count": null,
   "id": "d69584f0",
   "metadata": {},
   "outputs": [],
   "source": []
  },
  {
   "cell_type": "code",
   "execution_count": null,
   "id": "1d28cd81",
   "metadata": {},
   "outputs": [],
   "source": []
  }
 ],
 "metadata": {
  "kernelspec": {
   "display_name": "Python 3",
   "language": "python",
   "name": "python3"
  },
  "language_info": {
   "codemirror_mode": {
    "name": "ipython",
    "version": 3
   },
   "file_extension": ".py",
   "mimetype": "text/x-python",
   "name": "python",
   "nbconvert_exporter": "python",
   "pygments_lexer": "ipython3",
   "version": "3.12.0"
  }
 },
 "nbformat": 4,
 "nbformat_minor": 5
}
